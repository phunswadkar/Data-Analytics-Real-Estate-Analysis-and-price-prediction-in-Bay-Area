{
 "cells": [
  {
   "cell_type": "code",
   "execution_count": 1,
   "metadata": {},
   "outputs": [],
   "source": [
    "import pandas as pd\n",
    "from bs4 import BeautifulSoup \n",
    "import requests\n",
    "import re\n",
    "import numpy as np\n",
    "import seaborn as sns #visualisation\n",
    "import matplotlib.pyplot as plt #visualisation"
   ]
  },
  {
   "cell_type": "code",
   "execution_count": null,
   "metadata": {},
   "outputs": [],
   "source": [
    "home_url = 'https://www.point2homes.com'\n",
    "\n",
    "city_list_1 =['https://www.point2homes.com/US/Real-Estate-Listings/CA/Fremont.html',\n",
    "        'https://www.point2homes.com/US/Real-Estate-Listings/CA/Santa-Clara-County/Palo-Alto.html', \n",
    "        'https://www.point2homes.com/US/Real-Estate-Listings/CA/Santa-Clara-County/San-Jose.html', \n",
    "        'https://www.point2homes.com/US/Real-Estate-Listings/CA/Union-City.html',\n",
    "        'https://www.point2homes.com/US/Real-Estate-Listings/CA/Berkeley.html',\n",
    "        'https://www.point2homes.com/US/Real-Estate-Listings/CA/Santa-Clara-County/Milpitas.html',\n",
    "        'https://www.point2homes.com/US/Real-Estate-Listings/CA/Pleasanton.html',\n",
    "        'https://www.point2homes.com/US/Real-Estate-Listings/CA/San-Mateo-County/San-Mateo.html',\n",
    "        'https://www.point2homes.com/US/Real-Estate-Listings/CA/Hayward.html',\n",
    "        'https://www.point2homes.com/US/Real-Estate-Listings/CA/Dublin.html',\n",
    "        'https://www.point2homes.com/US/Real-Estate-Listings/CA/San-Ramon.html',\n",
    "        'https://www.point2homes.com/US/Real-Estate-Listings/CA/Santa-Clara-County/Sunnyvale.html']"
   ]
  },
  {
   "cell_type": "code",
   "execution_count": 2,
   "metadata": {},
   "outputs": [],
   "source": [
    "home_url = 'https://www.point2homes.com'\n",
    "\n",
    "city_list_2 =['https://www.point2homes.com/US/Real-Estate-Listings.html?LocationGeoId=637472&LocationGeoAreaId=&Location=Fremont%2C+CA',\n",
    "              'https://www.point2homes.com/US/Real-Estate-Listings.html?LocationGeoId=599672&LocationGeoAreaId=&Location=Palo+Alto%2C+CA',\n",
    "              'https://www.point2homes.com/US/Real-Estate-Listings.html?LocationGeoId=599677&LocationGeoAreaId=&Location=San+Jose%2C+CA',\n",
    "              'https://www.point2homes.com/US/Real-Estate-Listings.html?LocationGeoId=637791&LocationGeoAreaId=&Location=Union+City%2C+CA',\n",
    "              'https://www.point2homes.com/US/Real-Estate-Listings.html?LocationGeoId=637475&LocationGeoAreaId=&Location=Berkeley%2C+CA',\n",
    "              'https://www.point2homes.com/US/Real-Estate-Listings.html?LocationGeoId=599683&LocationGeoAreaId=&Location=Milpitas%2C+CA',\n",
    "              'https://www.point2homes.com/US/Real-Estate-Listings.html?LocationGeoId=637474&LocationGeoAreaId=&Location=Pleasanton%2C+CA',\n",
    "              'https://www.point2homes.com/US/Real-Estate-Listings.html?LocationGeoId=599344&LocationGeoAreaId=&Location=San+Mateo%2C+CA',\n",
    "              'https://www.point2homes.com/US/Real-Estate-Listings.html?LocationGeoId=637470&LocationGeoAreaId=&Location=Hayward%2C+CA',\n",
    "              'https://www.point2homes.com/US/Real-Estate-Listings.html?LocationGeoId=637512&LocationGeoAreaId=&Location=Dublin%2C+CA',\n",
    "              'https://www.point2homes.com/US/Real-Estate-Listings.html?LocationGeoId=662340&LocationGeoAreaId=&Location=San+Ramon%2C+CA',\n",
    "              'https://www.point2homes.com/US/Real-Estate-Listings.html?LocationGeoId=599681&LocationGeoAreaId=&Location=Sunnyvale%2C+CA']\n"
   ]
  },
  {
   "cell_type": "code",
   "execution_count": 3,
   "metadata": {},
   "outputs": [
    {
     "data": {
      "text/html": [
       "<div>\n",
       "<style scoped>\n",
       "    .dataframe tbody tr th:only-of-type {\n",
       "        vertical-align: middle;\n",
       "    }\n",
       "\n",
       "    .dataframe tbody tr th {\n",
       "        vertical-align: top;\n",
       "    }\n",
       "\n",
       "    .dataframe thead th {\n",
       "        text-align: right;\n",
       "    }\n",
       "</style>\n",
       "<table border=\"1\" class=\"dataframe\">\n",
       "  <thead>\n",
       "    <tr style=\"text-align: right;\">\n",
       "      <th></th>\n",
       "      <th>Address</th>\n",
       "      <th>Beds</th>\n",
       "      <th>Bath</th>\n",
       "      <th>Size Sqft</th>\n",
       "      <th>Lot Size</th>\n",
       "      <th>Agent Name</th>\n",
       "      <th>Agent Company</th>\n",
       "      <th>Price</th>\n",
       "      <th>Walk Score</th>\n",
       "      <th>Transit Score</th>\n",
       "      <th>Bike Score</th>\n",
       "    </tr>\n",
       "  </thead>\n",
       "  <tbody>\n",
       "    <tr>\n",
       "      <th>0</th>\n",
       "      <td>5615 Greeley PL, Fremont, Alameda County, CA, ...</td>\n",
       "      <td>3</td>\n",
       "      <td>2</td>\n",
       "      <td>1,108</td>\n",
       "      <td>0.137 ac</td>\n",
       "      <td>Cindy Liu</td>\n",
       "      <td>Starriver Inc</td>\n",
       "      <td>$1,298,000 USD</td>\n",
       "      <td>49</td>\n",
       "      <td>35</td>\n",
       "      <td>44</td>\n",
       "    </tr>\n",
       "    <tr>\n",
       "      <th>1</th>\n",
       "      <td>38566 Acacia St, Fremont, Alameda County, CA, ...</td>\n",
       "      <td>3</td>\n",
       "      <td>2</td>\n",
       "      <td>1,492</td>\n",
       "      <td>0.15 ac</td>\n",
       "      <td>Jill Denton</td>\n",
       "      <td>eXp Realty of California, Inc</td>\n",
       "      <td>$1,449,000 USD</td>\n",
       "      <td>81</td>\n",
       "      <td>58</td>\n",
       "      <td>73</td>\n",
       "    </tr>\n",
       "    <tr>\n",
       "      <th>2</th>\n",
       "      <td>5349 Audubon Park CT, Fremont, Alameda County,...</td>\n",
       "      <td>4</td>\n",
       "      <td>3</td>\n",
       "      <td>1,581</td>\n",
       "      <td>0.206 ac</td>\n",
       "      <td>Scott Perry</td>\n",
       "      <td>KW Bay Area Estates</td>\n",
       "      <td>$1,575,000 USD</td>\n",
       "      <td>45</td>\n",
       "      <td>32</td>\n",
       "      <td>48</td>\n",
       "    </tr>\n",
       "    <tr>\n",
       "      <th>3</th>\n",
       "      <td>4103 Tawny TER, Fremont, Alameda County, CA, 9...</td>\n",
       "      <td>3</td>\n",
       "      <td>3</td>\n",
       "      <td>1,549</td>\n",
       "      <td>2.34 ac</td>\n",
       "      <td>Terri Brown</td>\n",
       "      <td>Compass</td>\n",
       "      <td>$1,198,000 USD</td>\n",
       "      <td>72</td>\n",
       "      <td>41</td>\n",
       "      <td>52</td>\n",
       "    </tr>\n",
       "    <tr>\n",
       "      <th>4</th>\n",
       "      <td>762 Ridgeview Ter, Fremont, Alameda County, CA...</td>\n",
       "      <td>2</td>\n",
       "      <td>2</td>\n",
       "      <td>1,001</td>\n",
       "      <td>0.09 ac</td>\n",
       "      <td>Marie Rice</td>\n",
       "      <td>Legacy Real Estate &amp; Assoc.</td>\n",
       "      <td>$998,500 USD</td>\n",
       "      <td>23</td>\n",
       "      <td>53</td>\n",
       "      <td>63</td>\n",
       "    </tr>\n",
       "    <tr>\n",
       "      <th>...</th>\n",
       "      <td>...</td>\n",
       "      <td>...</td>\n",
       "      <td>...</td>\n",
       "      <td>...</td>\n",
       "      <td>...</td>\n",
       "      <td>...</td>\n",
       "      <td>...</td>\n",
       "      <td>...</td>\n",
       "      <td>...</td>\n",
       "      <td>...</td>\n",
       "      <td>...</td>\n",
       "    </tr>\n",
       "    <tr>\n",
       "      <th>841</th>\n",
       "      <td>1241 Heatherstone WAY, Sunnyvale, Santa Clara ...</td>\n",
       "      <td>2</td>\n",
       "      <td>1</td>\n",
       "      <td>1,002</td>\n",
       "      <td>0.129 ac</td>\n",
       "      <td>Anson Ip</td>\n",
       "      <td>Compass</td>\n",
       "      <td>$1,759,800 USD</td>\n",
       "      <td>62</td>\n",
       "      <td>41</td>\n",
       "      <td>89</td>\n",
       "    </tr>\n",
       "    <tr>\n",
       "      <th>842</th>\n",
       "      <td>1225 Vienna Drive #302 , Sunnyvale, Santa Clar...</td>\n",
       "      <td>3</td>\n",
       "      <td>2</td>\n",
       "      <td>1,616</td>\n",
       "      <td>NA</td>\n",
       "      <td>Janet Wooldridge</td>\n",
       "      <td>Ideal Homes</td>\n",
       "      <td>$350,000 USD</td>\n",
       "      <td>39</td>\n",
       "      <td>42</td>\n",
       "      <td>72</td>\n",
       "    </tr>\n",
       "    <tr>\n",
       "      <th>843</th>\n",
       "      <td>1268-2 Poplar AVE, Sunnyvale, Santa Clara Coun...</td>\n",
       "      <td>3</td>\n",
       "      <td>3</td>\n",
       "      <td>1,667</td>\n",
       "      <td>0.089 ac</td>\n",
       "      <td>Hiep K. Nguyen</td>\n",
       "      <td>Christie's International Real Estate Sereno</td>\n",
       "      <td>$2,380,000 USD</td>\n",
       "      <td>69</td>\n",
       "      <td>42</td>\n",
       "      <td>72</td>\n",
       "    </tr>\n",
       "    <tr>\n",
       "      <th>844</th>\n",
       "      <td>1220 Tasman Dr #271, Sunnyvale, Santa Clara Co...</td>\n",
       "      <td>2</td>\n",
       "      <td>2</td>\n",
       "      <td>1,319</td>\n",
       "      <td>NA</td>\n",
       "      <td>Alliance Manufactured Homes</td>\n",
       "      <td>Alliance Manufactured Homes</td>\n",
       "      <td>$299,000 USD</td>\n",
       "      <td>59</td>\n",
       "      <td>49</td>\n",
       "      <td>78</td>\n",
       "    </tr>\n",
       "    <tr>\n",
       "      <th>845</th>\n",
       "      <td>1020 Polk AVE, Sunnyvale, Santa Clara County, ...</td>\n",
       "      <td>3</td>\n",
       "      <td>3</td>\n",
       "      <td>1,800</td>\n",
       "      <td>0.074 ac</td>\n",
       "      <td>Leanna Scott</td>\n",
       "      <td>KW Silicon City</td>\n",
       "      <td>$2,285,000 USD</td>\n",
       "      <td>71</td>\n",
       "      <td>40</td>\n",
       "      <td>88</td>\n",
       "    </tr>\n",
       "  </tbody>\n",
       "</table>\n",
       "<p>846 rows × 11 columns</p>\n",
       "</div>"
      ],
      "text/plain": [
       "                                               Address Beds Bath Size Sqft  \\\n",
       "0    5615 Greeley PL, Fremont, Alameda County, CA, ...    3    2     1,108   \n",
       "1    38566 Acacia St, Fremont, Alameda County, CA, ...    3    2     1,492   \n",
       "2    5349 Audubon Park CT, Fremont, Alameda County,...    4    3     1,581   \n",
       "3    4103 Tawny TER, Fremont, Alameda County, CA, 9...    3    3     1,549   \n",
       "4    762 Ridgeview Ter, Fremont, Alameda County, CA...    2    2     1,001   \n",
       "..                                                 ...  ...  ...       ...   \n",
       "841  1241 Heatherstone WAY, Sunnyvale, Santa Clara ...    2    1     1,002   \n",
       "842  1225 Vienna Drive #302 , Sunnyvale, Santa Clar...    3    2     1,616   \n",
       "843  1268-2 Poplar AVE, Sunnyvale, Santa Clara Coun...    3    3     1,667   \n",
       "844  1220 Tasman Dr #271, Sunnyvale, Santa Clara Co...    2    2     1,319   \n",
       "845  1020 Polk AVE, Sunnyvale, Santa Clara County, ...    3    3     1,800   \n",
       "\n",
       "     Lot Size                    Agent Name  \\\n",
       "0    0.137 ac                    Cindy Liu    \n",
       "1     0.15 ac                  Jill Denton    \n",
       "2    0.206 ac                  Scott Perry    \n",
       "3     2.34 ac                  Terri Brown    \n",
       "4     0.09 ac                   Marie Rice    \n",
       "..        ...                           ...   \n",
       "841  0.129 ac                     Anson Ip    \n",
       "842        NA             Janet Wooldridge    \n",
       "843  0.089 ac               Hiep K. Nguyen    \n",
       "844        NA  Alliance Manufactured Homes    \n",
       "845  0.074 ac                 Leanna Scott    \n",
       "\n",
       "                                   Agent Company           Price Walk Score  \\\n",
       "0                                  Starriver Inc  $1,298,000 USD         49   \n",
       "1                  eXp Realty of California, Inc  $1,449,000 USD         81   \n",
       "2                            KW Bay Area Estates  $1,575,000 USD         45   \n",
       "3                                        Compass  $1,198,000 USD         72   \n",
       "4                    Legacy Real Estate & Assoc.    $998,500 USD         23   \n",
       "..                                           ...             ...        ...   \n",
       "841                                      Compass  $1,759,800 USD         62   \n",
       "842                                  Ideal Homes    $350,000 USD         39   \n",
       "843  Christie's International Real Estate Sereno  $2,380,000 USD         69   \n",
       "844                  Alliance Manufactured Homes    $299,000 USD         59   \n",
       "845                              KW Silicon City  $2,285,000 USD         71   \n",
       "\n",
       "    Transit Score Bike Score  \n",
       "0              35         44  \n",
       "1              58         73  \n",
       "2              32         48  \n",
       "3              41         52  \n",
       "4              53         63  \n",
       "..            ...        ...  \n",
       "841            41         89  \n",
       "842            42         72  \n",
       "843            42         72  \n",
       "844            49         78  \n",
       "845            40         88  \n",
       "\n",
       "[846 rows x 11 columns]"
      ]
     },
     "execution_count": 3,
     "metadata": {},
     "output_type": "execute_result"
    }
   ],
   "source": [
    "# MAIN CODE\n",
    "prop_d = []\n",
    "for cityurl in city_list_2:\n",
    "    text = requests.get(cityurl).text\n",
    "    soup = BeautifulSoup(text,\"html.parser\")\n",
    "    pagenumbers = soup.find('div',attrs={'class':\"pager\"}).text.replace(\"\\t\",\"\").replace(\"\\n\",\"\").replace(\"  \",\"\")\n",
    "    pagenumbers_list= list(pagenumbers)\n",
    "    #print(pagenumbers_list)\n",
    "    #pgnb=len(pagenumbers_list)\n",
    "    #print(pgnb)\n",
    "    \n",
    "    for x in pagenumbers_list:\n",
    "        \n",
    "        urlwithpagenumber = cityurl+\"?page=\"+str(x)#ADDING PAGE NUMBER TO URL\n",
    "        #print(urlwithpagenumber)\n",
    "        text = requests.get(urlwithpagenumber).text\n",
    "        soup = BeautifulSoup(text,\"html.parser\")\n",
    "        soup.prettify()\n",
    "        content_list = soup.findAll('a',attrs={'data-label-more':\"View More\"})\n",
    "        \n",
    "        url_list =[]\n",
    "        main_url = \"https://www.point2homes.com\"\n",
    "        \n",
    "        for tag in content_list:\n",
    "            suburl= main_url + tag.attrs['href']#GETTING THE HOUSES URL FROM EACH PAGE\n",
    "            url_list.append(suburl)  \n",
    "        #print(len(url_list))\n",
    "        distinct_url = list(set(url_list))\n",
    "        #print(len(distinct_url))\n",
    "        #print(distinct_url)\n",
    "         \n",
    "        for x in distinct_url:\n",
    "            #print(x)\n",
    "            htmlfile = requests.get(x).text\n",
    "            soup = BeautifulSoup(htmlfile,'html.parser')\n",
    "            soup.prettify()\n",
    "            \n",
    "            prop1={}\n",
    "            \n",
    "            # 1 - Address\n",
    "            address = soup.find('div', attrs={'class': 'address-container'})\n",
    "            \n",
    "            if address:\n",
    "                prop1['Address'] = soup.find('div', attrs={'class': 'address-container'}).text.replace(\"\\r\",\"\").replace(\"\\n\",\"\").replace(\"  \",\"\")\n",
    "            else:\n",
    "                prop1['Address'] = \"NA\"\n",
    "                \n",
    "            \n",
    "            #2 - Beds\n",
    "            bed = soup.find('li', attrs={'data-label': 'Beds'})\n",
    "            \n",
    "            if bed:\n",
    "                prop1['Beds'] = soup.find('li', attrs={'data-label': 'Beds'}).strong.text\n",
    "                \n",
    "            else:\n",
    "                prop1['Beds'] = \"NA\"\n",
    "                \n",
    "            #3 - Bath\n",
    "            bath = soup.find('li', attrs={'data-label': 'Baths'})\n",
    "            \n",
    "            if bath:\n",
    "                prop1['Bath'] = soup.find('li', attrs={'data-label': 'Baths'}).strong.text\n",
    "                \n",
    "            else:\n",
    "                prop1['Bath'] = \"NA\"       \n",
    "                \n",
    "            #4 - Size\n",
    "            size = soup.find('li', attrs={'data-label': 'Sqft'})\n",
    "            \n",
    "            if size:\n",
    "                prop1['Size Sqft'] = soup.find('li', attrs={'data-label': 'Sqft'}).strong.text\n",
    "                \n",
    "            else:\n",
    "                prop1['Size Sqft'] = \"NA\" \n",
    "                \n",
    "             #5 - Lot-size\n",
    "            lot_size = soup.find('li', attrs={'data-label': 'Lot Size'})\n",
    "            \n",
    "            if lot_size:\n",
    "                prop1['Lot Size'] = soup.find('li', attrs={'data-label': 'Lot Size'}).strong.text\n",
    "                \n",
    "            else:\n",
    "                prop1['Lot Size'] = \"NA\" \n",
    "                \n",
    "            # 6- Agent Name\n",
    "                \n",
    "            listing = soup.find('div', attrs={'class': 'agent-name'})\n",
    "\n",
    "            if listing:\n",
    "                prop1['Agent Name'] = soup.find('div', attrs={'class': 'agent-name'}).span.text. replace(\"  \",\"\")\n",
    "                \n",
    "            else:\n",
    "                prop1['Agent Name'] = \"NA\"  \n",
    "\n",
    "            # 7 - Agent Company\n",
    "                \n",
    "            listing1 = soup.find('div', attrs={'class': 'agent-details-top'})\n",
    "            \n",
    "            if listing1:\n",
    "                prop1['Agent Company'] = soup.find('div', attrs={'class': 'agent-details-top'}).p.text\n",
    "                \n",
    "            else:\n",
    "                prop1['Agent Company'] = \"NA\"  \n",
    "\n",
    "            #8 - Price\n",
    "\n",
    "            price = soup.find('span', attrs={'class': 'green'})\n",
    "\n",
    "            if price:\n",
    "                prop1['Price'] = soup.find('span', attrs={'class': 'green'}).text.replace(\"  \",\"\").replace(\"\\r\",\"\").replace(\"\\n\",\"\")\n",
    "                \n",
    "            else:\n",
    "                prop1['Price'] = \"NA\"  \n",
    "                \n",
    "            #9 - Transport scores\n",
    "            \n",
    "            walk_sc =soup.find('div', attrs={'class':'walkscore-item walkscore-ic1'})\n",
    "            \n",
    "            if  walk_sc:\n",
    "                prop1['Walk Score'] = soup.find('div', attrs={'class':'walkscore-item walkscore-ic1'}).span.text\n",
    "                \n",
    "            else:\n",
    "                prop1['Walk Score'] = \"NA\"\n",
    "            \n",
    "            transit_sc =soup.find('div', attrs={'class':'walkscore-item walkscore-ic2'})\n",
    "            \n",
    "            if transit_sc:\n",
    "                prop1['Transit Score'] = soup.find('div', attrs={'class':'walkscore-item walkscore-ic2'}).span.text\n",
    "                \n",
    "            else:\n",
    "                prop1['Transit Score'] = \"NA\"\n",
    "            \n",
    "            bike_sc =soup.find('div', attrs={'class':'walkscore-item walkscore-ic3'})\n",
    "            \n",
    "            if bike_sc:\n",
    "                prop1['Bike Score'] = soup.find('div', attrs={'class':'walkscore-item walkscore-ic3'}).span.text\n",
    "                \n",
    "            else:\n",
    "                prop1['Bike Score'] = \"NA\" \n",
    "            \n",
    "            prop_d.append(prop1)\n",
    "            \n",
    "df1 = pd.DataFrame(prop_d)\n",
    "df1"
   ]
  },
  {
   "cell_type": "code",
   "execution_count": 4,
   "metadata": {},
   "outputs": [],
   "source": [
    "import csv\n",
    "df1.to_csv(\"property_data_sep22.csv\")"
   ]
  },
  {
   "cell_type": "code",
   "execution_count": 5,
   "metadata": {},
   "outputs": [
    {
     "data": {
      "text/plain": [
       "(846, 12)"
      ]
     },
     "execution_count": 5,
     "metadata": {},
     "output_type": "execute_result"
    }
   ],
   "source": [
    "# Create data frame from the heart data set. \n",
    "prop_df = pd.read_csv('property_data_sep22.csv')\n",
    "\n",
    "# Determine dimensions of dataframe. \n",
    "prop_df.shape"
   ]
  },
  {
   "cell_type": "markdown",
   "metadata": {},
   "source": [
    "# Data Cleaning"
   ]
  },
  {
   "cell_type": "code",
   "execution_count": 6,
   "metadata": {},
   "outputs": [
    {
     "data": {
      "text/plain": [
       "Unnamed: 0         int64\n",
       "Address           object\n",
       "Beds               int64\n",
       "Bath             float64\n",
       "Size Sqft         object\n",
       "Lot Size          object\n",
       "Agent Name        object\n",
       "Agent Company     object\n",
       "Price             object\n",
       "Walk Score       float64\n",
       "Transit Score    float64\n",
       "Bike Score       float64\n",
       "dtype: object"
      ]
     },
     "execution_count": 6,
     "metadata": {},
     "output_type": "execute_result"
    }
   ],
   "source": [
    "prop_df.dtypes"
   ]
  },
  {
   "cell_type": "code",
   "execution_count": 7,
   "metadata": {},
   "outputs": [],
   "source": [
    "df = prop_df.rename(columns={\"Size Sqft\": \"Size_sqft\", \"Lot Size\": \"Lot_Size\", \"Agent Name\": \"Agent_Name \", \"Agent Company\": \"Agent_Company\",\"Walk Score\": \"Walk_Score\", \"Transit Score\": \"Transit_Score\", \"Bike Score\": \"Bike_Score\" })"
   ]
  },
  {
   "cell_type": "code",
   "execution_count": 8,
   "metadata": {},
   "outputs": [
    {
     "data": {
      "text/plain": [
       "Unnamed: 0         int64\n",
       "Address           object\n",
       "Beds               int64\n",
       "Bath             float64\n",
       "Size_sqft         object\n",
       "Lot_Size          object\n",
       "Agent_Name        object\n",
       "Agent_Company     object\n",
       "Price             object\n",
       "Walk_Score       float64\n",
       "Transit_Score    float64\n",
       "Bike_Score       float64\n",
       "dtype: object"
      ]
     },
     "execution_count": 8,
     "metadata": {},
     "output_type": "execute_result"
    }
   ],
   "source": [
    "df.dtypes"
   ]
  },
  {
   "cell_type": "code",
   "execution_count": 9,
   "metadata": {},
   "outputs": [
    {
     "name": "stdout",
     "output_type": "stream",
     "text": [
      "(0, 12)\n"
     ]
    }
   ],
   "source": [
    "# Rows containing duplicate data\n",
    "duplicate_rows_df = df[df.duplicated()]\n",
    "print(duplicate_rows_df.shape)"
   ]
  },
  {
   "cell_type": "code",
   "execution_count": 10,
   "metadata": {},
   "outputs": [
    {
     "data": {
      "text/plain": [
       "Unnamed: 0       846\n",
       "Address          846\n",
       "Beds             846\n",
       "Bath             846\n",
       "Size_sqft        834\n",
       "Lot_Size         581\n",
       "Agent_Name       846\n",
       "Agent_Company    846\n",
       "Price            846\n",
       "Walk_Score       844\n",
       "Transit_Score    588\n",
       "Bike_Score       844\n",
       "dtype: int64"
      ]
     },
     "execution_count": 10,
     "metadata": {},
     "output_type": "execute_result"
    }
   ],
   "source": [
    "df.count()"
   ]
  },
  {
   "cell_type": "code",
   "execution_count": 11,
   "metadata": {},
   "outputs": [
    {
     "name": "stdout",
     "output_type": "stream",
     "text": [
      "Unnamed: 0         0\n",
      "Address            0\n",
      "Beds               0\n",
      "Bath               0\n",
      "Size_sqft         12\n",
      "Lot_Size         265\n",
      "Agent_Name         0\n",
      "Agent_Company      0\n",
      "Price              0\n",
      "Walk_Score         2\n",
      "Transit_Score    258\n",
      "Bike_Score         2\n",
      "dtype: int64\n"
     ]
    }
   ],
   "source": [
    "# Finding the null values.\n",
    "print(df.isnull().sum())"
   ]
  },
  {
   "cell_type": "code",
   "execution_count": 12,
   "metadata": {},
   "outputs": [],
   "source": [
    "df1=df.fillna(0)"
   ]
  },
  {
   "cell_type": "code",
   "execution_count": 13,
   "metadata": {},
   "outputs": [
    {
     "name": "stdout",
     "output_type": "stream",
     "text": [
      "Unnamed: 0       0\n",
      "Address          0\n",
      "Beds             0\n",
      "Bath             0\n",
      "Size_sqft        0\n",
      "Lot_Size         0\n",
      "Agent_Name       0\n",
      "Agent_Company    0\n",
      "Price            0\n",
      "Walk_Score       0\n",
      "Transit_Score    0\n",
      "Bike_Score       0\n",
      "dtype: int64\n"
     ]
    }
   ],
   "source": [
    "print(df1.isnull().sum())"
   ]
  },
  {
   "cell_type": "code",
   "execution_count": 14,
   "metadata": {},
   "outputs": [],
   "source": [
    "import csv\n",
    "df1.to_csv(\"property_data_sep22_final.csv\")"
   ]
  },
  {
   "cell_type": "code",
   "execution_count": 15,
   "metadata": {},
   "outputs": [
    {
     "name": "stdout",
     "output_type": "stream",
     "text": [
      "Unnamed: 0       422.50\n",
      "Beds               1.00\n",
      "Bath               1.00\n",
      "Walk_Score        30.00\n",
      "Transit_Score     42.00\n",
      "Bike_Score        25.75\n",
      "dtype: float64\n"
     ]
    }
   ],
   "source": [
    "Q1 = df1.quantile(0.25)\n",
    "Q3 = df1.quantile(0.75)\n",
    "IQR = Q3 - Q1\n",
    "print(IQR)"
   ]
  },
  {
   "cell_type": "code",
   "execution_count": 16,
   "metadata": {},
   "outputs": [
    {
     "name": "stderr",
     "output_type": "stream",
     "text": [
      "/var/folders/9c/kkxrxr9j74930ptyn4f4fvsh0000gn/T/ipykernel_1108/689747575.py:1: FutureWarning: Automatic reindexing on DataFrame vs Series comparisons is deprecated and will raise ValueError in a future version. Do `left, right = left.align(right, axis=1, copy=False)` before e.g. `left == right`\n",
      "  df2 = df1[~((df1 < (Q1 - 1.5 * IQR)) |(df1 > (Q3 + 1.5 * IQR))).any(axis=1)]\n"
     ]
    },
    {
     "data": {
      "text/plain": [
       "(788, 12)"
      ]
     },
     "execution_count": 16,
     "metadata": {},
     "output_type": "execute_result"
    }
   ],
   "source": [
    "df2 = df1[~((df1 < (Q1 - 1.5 * IQR)) |(df1 > (Q3 + 1.5 * IQR))).any(axis=1)]\n",
    "df2.shape"
   ]
  },
  {
   "cell_type": "code",
   "execution_count": 17,
   "metadata": {},
   "outputs": [
    {
     "data": {
      "text/plain": [
       "<AxesSubplot:xlabel='Transit_Score'>"
      ]
     },
     "execution_count": 17,
     "metadata": {},
     "output_type": "execute_result"
    },
    {
     "data": {
      "image/png": "[encoded data removed]",
      "text/plain": [
       "<Figure size 432x288 with 1 Axes>"
      ]
     },
     "metadata": {
      "needs_background": "light"
     },
     "output_type": "display_data"
    }
   ],
   "source": [
    "sns.boxplot(x=df2['Transit_Score'])"
   ]
  },
  {
   "cell_type": "code",
   "execution_count": 18,
   "metadata": {},
   "outputs": [
    {
     "data": {
      "text/plain": [
       "<AxesSubplot:xlabel='Beds'>"
      ]
     },
     "execution_count": 18,
     "metadata": {},
     "output_type": "execute_result"
    },
    {
     "data": {
      "image/png": "[encoded data removed]",
      "text/plain": [
       "<Figure size 432x288 with 1 Axes>"
      ]
     },
     "metadata": {
      "needs_background": "light"
     },
     "output_type": "display_data"
    }
   ],
   "source": [
    "sns.boxplot(x=df2['Beds'])"
   ]
  },
  {
   "cell_type": "code",
   "execution_count": 19,
   "metadata": {},
   "outputs": [
    {
     "data": {
      "text/plain": [
       "<AxesSubplot:xlabel='Bath'>"
      ]
     },
     "execution_count": 19,
     "metadata": {},
     "output_type": "execute_result"
    },
    {
     "data": {
      "image/png": "[encoded data removed]",
      "text/plain": [
       "<Figure size 432x288 with 1 Axes>"
      ]
     },
     "metadata": {
      "needs_background": "light"
     },
     "output_type": "display_data"
    }
   ],
   "source": [
    "sns.boxplot(x=df2['Bath'])"
   ]
  },
  {
   "cell_type": "code",
   "execution_count": 20,
   "metadata": {},
   "outputs": [
    {
     "data": {
      "text/plain": [
       "<AxesSubplot:xlabel='Walk_Score'>"
      ]
     },
     "execution_count": 20,
     "metadata": {},
     "output_type": "execute_result"
    },
    {
     "data": {
      "image/png": "[encoded data removed]",
      "text/plain": [
       "<Figure size 432x288 with 1 Axes>"
      ]
     },
     "metadata": {
      "needs_background": "light"
     },
     "output_type": "display_data"
    }
   ],
   "source": [
    "sns.boxplot(x=df2['Walk_Score'])"
   ]
  },
  {
   "cell_type": "code",
   "execution_count": 21,
   "metadata": {},
   "outputs": [
    {
     "data": {
      "text/plain": [
       "<AxesSubplot:xlabel='Bike_Score'>"
      ]
     },
     "execution_count": 21,
     "metadata": {},
     "output_type": "execute_result"
    },
    {
     "data": {
      "image/png": "[encoded data removed]",
      "text/plain": [
       "<Figure size 432x288 with 1 Axes>"
      ]
     },
     "metadata": {
      "needs_background": "light"
     },
     "output_type": "display_data"
    }
   ],
   "source": [
    "sns.boxplot(x=df2['Bike_Score'])"
   ]
  },
  {
   "cell_type": "code",
   "execution_count": 22,
   "metadata": {},
   "outputs": [
    {
     "data": {
      "image/png": "[encoded data removed]",
      "text/plain": [
       "<Figure size 1080x504 with 2 Axes>"
      ]
     },
     "metadata": {
      "needs_background": "light"
     },
     "output_type": "display_data"
    }
   ],
   "source": [
    "plt.figure(figsize=(15,7))\n",
    "sns.heatmap(df2.corr(),annot=True,vmin=-1,vmax=1,fmt='.2f',cmap='Spectral')\n",
    "plt.show()"
   ]
  }
 ],
 "metadata": {
  "kernelspec": {
   "display_name": "Python 3 (ipykernel)",
   "language": "python",
   "name": "python3"
  },
  "language_info": {
   "codemirror_mode": {
    "name": "ipython",
    "version": 3
   },
   "file_extension": ".py",
   "mimetype": "text/x-python",
   "name": "python",
   "nbconvert_exporter": "python",
   "pygments_lexer": "ipython3",
   "version": "3.9.12"
  }
 },
 "nbformat": 4,
 "nbformat_minor": 4
}
